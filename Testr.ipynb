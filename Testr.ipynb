{
 "cells": [
  {
   "cell_type": "markdown",
   "metadata": {},
   "source": [
    "<center>\n",
    "    <img src=\"https://cf-courses-data.s3.us.cloud-object-storage.appdomain.cloud/IBMDeveloperSkillsNetwork-DS0105EN-SkillsNetwork/labs/Module2/images/SN_web_lightmode.png\" width=\"300\" alt=\"cognitiveclass.ai logo\">\n",
    "</center>\n"
   ]
  },
  {
   "cell_type": "markdown",
   "metadata": {},
   "source": [
    "#### Add your code below following the instructions given in the course\n"
   ]
  },
  {
   "cell_type": "code",
   "execution_count": 5,
   "metadata": {
    "tags": []
   },
   "outputs": [
    {
     "name": "stdout",
     "output_type": "stream",
     "text": [
      " Hi I am mark Jezrael Hilario\n"
     ]
    }
   ],
   "source": [
    "print (\" Hi! I am mark Jezrael Hilario\")\n"
   ]
  },
  {
   "cell_type": "code",
   "execution_count": 13,
   "metadata": {
    "tags": []
   },
   "outputs": [
    {
     "name": "stdout",
     "output_type": "stream",
     "text": [
      "The Jupyter Practice\n"
     ]
    }
   ],
   "source": [
    "# Title of the Notebook \n",
    "print (\"The Jupyter Practice\")"
   ]
  },
  {
   "cell_type": "code",
   "execution_count": 14,
   "metadata": {
    "tags": []
   },
   "outputs": [
    {
     "name": "stdout",
     "output_type": "stream",
     "text": [
      "This notebook will guide you through the analysis of Mark Jezrael Hilario\n"
     ]
    }
   ],
   "source": [
    "## Introduction\n",
    "print (\"This notebook will guide you through the analysis of Mark Jezrael Hilario\")"
   ]
  },
  {
   "cell_type": "code",
   "execution_count": 20,
   "metadata": {
    "tags": []
   },
   "outputs": [
    {
     "name": "stdout",
     "output_type": "stream",
     "text": [
      "Data Science Languages\n",
      "•  Python\n",
      "•  R\n",
      "•  SQL\n",
      "•  Julia\n",
      "•  Scala\n"
     ]
    }
   ],
   "source": [
    "## Data Science Languages\n",
    "print (\"Data Science Languages\")\n",
    "print (\"•  Python\")\n",
    "\n",
    "print (\"•  R\")\n",
    "\n",
    "print (\"•  SQL\")\n",
    "\n",
    "print (\"•  Julia\")\n",
    "\n",
    "print (\"•  Scala\")"
   ]
  },
  {
   "cell_type": "code",
   "execution_count": 27,
   "metadata": {
    "tags": []
   },
   "outputs": [
    {
     "name": "stdout",
     "output_type": "stream",
     "text": [
      "Data Science Tools\n",
      "•  Pandas\n",
      "•  NumPy\n",
      "•  Scikiit- learn\n",
      "•  Tesnsor Flow\n",
      "•  Matplotlib\n"
     ]
    }
   ],
   "source": [
    "## Data Science Tools\n",
    "print(\"Data Science Tools\")\n",
    "print (\"•  Pandas\")\n",
    "\n",
    "print (\"•  NumPy\")\n",
    "\n",
    "print (\"•  Scikiit- learn\")\n",
    "\n",
    "print (\"•  Tesnsor Flow\")\n",
    "\n",
    "print (\"•  Matplotlib\")"
   ]
  },
  {
   "cell_type": "code",
   "execution_count": 29,
   "metadata": {
    "tags": []
   },
   "outputs": [
    {
     "ename": "SyntaxError",
     "evalue": "EOL while scanning string literal (2656885773.py, line 1)",
     "output_type": "error",
     "traceback": [
      "\u001b[0;36m  File \u001b[0;32m\"/tmp/ipykernel_128/2656885773.py\"\u001b[0;36m, line \u001b[0;32m1\u001b[0m\n\u001b[0;31m    Sure, here's how you can create a markdown cell in Jupyter Notebook to list some popular data science libraries:\u001b[0m\n\u001b[0m                                                                                                                    ^\u001b[0m\n\u001b[0;31mSyntaxError\u001b[0m\u001b[0;31m:\u001b[0m EOL while scanning string literal\n"
     ]
    }
   ],
   "source": [
    "## Popular Data Science Libraries\n",
    "\n",
    "•  [**Pandas**](https://www.bing.com/search?form=SKPBOT&q=Pandas): Data manipulation and analysis\n",
    "\n",
    "•  [**NumPy**](https://www.bing.com/search?form=SKPBOT&q=NumPy): Numerical computing\n",
    "\n",
    "•  [**Matplotlib**](https://www.bing.com/search?form=SKPBOT&q=Matplotlib): Data visualization\n",
    "\n",
    "•  [**Scikit-learn**](https://www.bing.com/search?form=SKPBOT&q=Scikit-learn): Machine learning\n",
    "\n",
    "•  [**TensorFlow**](https://www.bing.com/search?form=SKPBOT&q=TensorFlow): Deep learning\n",
    "\n",
    "•  [**Keras**](https://www.bing.com/search?form=SKPBOT&q=Keras): Neural networks and deep learning\n",
    "\n",
    "•  [**Seaborn**](https://www.bing.com/search?form=SKPBOT&q=Seaborn): Statistical data visualization\n",
    "\n",
    "•  [**Statsmodels**](https://www.bing.com/search?form=SKPBOT&q=Statsmodels): Statistical modeling\n",
    "\n",
    "•  [**SciPy**](https://www.bing.com/search?form=SKPBOT&q=SciPy): Scientific computing\n",
    "\n",
    "•  [**Plotly**](https://www.bing.com/search?form=SKPBOT&q=Plotly): Interactive graphing"
   ]
  },
  {
   "cell_type": "code",
   "execution_count": 30,
   "metadata": {
    "tags": []
   },
   "outputs": [
    {
     "ename": "SyntaxError",
     "evalue": "invalid syntax (2812666828.py, line 3)",
     "output_type": "error",
     "traceback": [
      "\u001b[0;36m  File \u001b[0;32m\"/tmp/ipykernel_128/2812666828.py\"\u001b[0;36m, line \u001b[0;32m3\u001b[0m\n\u001b[0;31m    | Tool            | Type          | Description                           |\u001b[0m\n\u001b[0m    ^\u001b[0m\n\u001b[0;31mSyntaxError\u001b[0m\u001b[0;31m:\u001b[0m invalid syntax\n"
     ]
    }
   ],
   "source": [
    "## Table of Data Science Tools\n",
    "\n",
    "| Tool            | Type          | Description                           |\n",
    "|-----------------|---------------|---------------------------------------|\n",
    "| Jupyter         | IDE           | Interactive development environment   |\n",
    "| Pandas          | Library       | Data manipulation and analysis        |\n",
    "| NumPy           | Library       | Numerical computing                   |\n",
    "| Matplotlib      | Library       | Data visualization                    |\n",
    "| Scikit-learn    | Library       | Machine learning                      |\n",
    "| TensorFlow      | Library       | Deep learning                         |\n",
    "| Keras           | Library       | Neural networks                       |\n",
    "| PySpark         | Framework     | Big data processing                   |\n",
    "| SQL             | Language      | Database management                   |\n",
    "| Git             | Tool          | Version control                       |"
   ]
  },
  {
   "cell_type": "code",
   "execution_count": 32,
   "metadata": {
    "tags": []
   },
   "outputs": [
    {
     "ename": "SyntaxError",
     "evalue": "invalid syntax (2322745296.py, line 3)",
     "output_type": "error",
     "traceback": [
      "\u001b[0;36m  File \u001b[0;32m\"/tmp/ipykernel_128/2322745296.py\"\u001b[0;36m, line \u001b[0;32m3\u001b[0m\n\u001b[0;31m    1. [**Addition**](https://www.bing.com/search?form=SKPBOT&q=Addition):\u001b[0m\n\u001b[0m         ^\u001b[0m\n\u001b[0;31mSyntaxError\u001b[0m\u001b[0;31m:\u001b[0m invalid syntax\n"
     ]
    }
   ],
   "source": [
    "## Arithmetic Expression Examples\n",
    "\n",
    "1. [**Addition**](https://www.bing.com/search?form=SKPBOT&q=Addition):\n",
    "$$ a + b $$\n",
    "Adds two numbers together.\n",
    "\n",
    "2. [**Subtraction**](https://www.bing.com/search?form=SKPBOT&q=Subtraction):\n",
    "$$ a - b $$\n",
    "Subtracts the second number from the first.\n",
    "\n",
    "3. [**Multiplication**](https://www.bing.com/search?form=SKPBOT&q=Multiplication):\n",
    "$$ a \\times b $$\n",
    "Multiplies two numbers.\n",
    "\n",
    "4. [**Division**](https://www.bing.com/search?form=SKPBOT&q=Division):\n",
    "$$ \\frac{a}{b} $$\n",
    "Divides the first number by the second.\n",
    "\n",
    "5. [**Exponentiation**](https://www.bing.com/search?form=SKPBOT&q=Exponentiation):\n",
    "$$ a^b $$\n",
    "Raises the first number to the power of the second.\n",
    "\n",
    "6. [**Modulus**](https://www.bing.com/search?form=SKPBOT&q=Modulus):\n",
    "$$ a \\mod b $$\n",
    "Finds the remainder when the first number is divided by the second."
   ]
  },
  {
   "cell_type": "code",
   "execution_count": 40,
   "metadata": {
    "tags": []
   },
   "outputs": [
    {
     "name": "stdout",
     "output_type": "stream",
     "text": [
      "The sum of the numbers is: 15\n",
      "The product of the numbers is: 50\n"
     ]
    }
   ],
   "source": [
    "# Define the numbers\n",
    "number1 = 10\n",
    "number2 = 5\n",
    "\n",
    "sum = number1 + number2\n",
    "print(\"The sum of the numbers is:\", sum)\n",
    "product = number1 * number2\n",
    "print(\"The product of the numbers is:\", product)"
   ]
  },
  {
   "cell_type": "code",
   "execution_count": 41,
   "metadata": {
    "tags": []
   },
   "outputs": [
    {
     "name": "stdout",
     "output_type": "stream",
     "text": [
      "120 minutes is equal to 2.0 hours.\n"
     ]
    }
   ],
   "source": [
    "# Define the number of minutes\n",
    "minutes = 120\n",
    "\n",
    "# Convert minutes to hours\n",
    "hours = minutes / 60\n",
    "\n",
    "# Print the result\n",
    "print(f\"{minutes} minutes is equal to {hours} hours.\")"
   ]
  },
  {
   "cell_type": "code",
   "execution_count": 47,
   "metadata": {
    "tags": []
   },
   "outputs": [
    {
     "name": "stdout",
     "output_type": "stream",
     "text": [
      "•  Understand the basics of data science\n",
      "•  Explore key Python libraries for data analysis\n",
      "•  Develop machine learning models\n",
      "•  Visualize data insights\n"
     ]
    }
   ],
   "source": [
    "## Objectives\n",
    "\n",
    "print (\"•  Understand the basics of data science\")\n",
    "\n",
    "print (\"•  Explore key Python libraries for data analysis\")\n",
    "\n",
    "print (\"•  Develop machine learning models\")\n",
    "\n",
    "print (\"•  Visualize data insights\")\n"
   ]
  },
  {
   "cell_type": "code",
   "execution_count": 48,
   "metadata": {
    "tags": []
   },
   "outputs": [
    {
     "name": "stdout",
     "output_type": "stream",
     "text": [
      "•  Authors Name •\n",
      "Mark Jezrael Hilario\n"
     ]
    }
   ],
   "source": [
    "## Objectives\n",
    "\n",
    "print (\"•  Authors Name •\")\n",
    "print (\"Mark Jezrael Hilario\")"
   ]
  },
  {
   "cell_type": "code",
   "execution_count": null,
   "metadata": {},
   "outputs": [],
   "source": []
  }
 ],
 "metadata": {
  "kernelspec": {
   "display_name": "Python",
   "language": "python",
   "name": "conda-env-python-py"
  },
  "language_info": {
   "codemirror_mode": {
    "name": "ipython",
    "version": 3
   },
   "file_extension": ".py",
   "mimetype": "text/x-python",
   "name": "python",
   "nbconvert_exporter": "python",
   "pygments_lexer": "ipython3",
   "version": "3.7.12"
  }
 },
 "nbformat": 4,
 "nbformat_minor": 4
}
